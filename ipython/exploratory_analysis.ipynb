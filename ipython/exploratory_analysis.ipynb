{
 "cells": [
  {
   "cell_type": "code",
   "execution_count": 18,
   "metadata": {
    "collapsed": true
   },
   "outputs": [],
   "source": [
    "import pandas as pd\n",
    "import nltk\n",
    "from nltk.tokenize import sent_tokenize, word_tokenize\n",
    "from nltk.corpus import stopwords\n",
    "from gensim.models.ldamodel import LdaModel\n",
    "from gensim import corpora, models, similarities, matutils\n",
    "from textblob import TextBlob"
   ]
  },
  {
   "cell_type": "code",
   "execution_count": 2,
   "metadata": {
    "collapsed": false
   },
   "outputs": [
    {
     "data": {
      "text/html": [
       "<div style=\"max-height:1000px;max-width:1500px;overflow:auto;\">\n",
       "<table border=\"1\" class=\"dataframe\">\n",
       "  <thead>\n",
       "    <tr style=\"text-align: right;\">\n",
       "      <th></th>\n",
       "      <th>id</th>\n",
       "      <th>product_uid</th>\n",
       "      <th>product_title</th>\n",
       "      <th>search_term</th>\n",
       "      <th>relevance</th>\n",
       "    </tr>\n",
       "  </thead>\n",
       "  <tbody>\n",
       "    <tr>\n",
       "      <th>0</th>\n",
       "      <td>2</td>\n",
       "      <td>100001</td>\n",
       "      <td>Simpson Strong-Tie 12-Gauge Angle</td>\n",
       "      <td>angle bracket</td>\n",
       "      <td>3.00</td>\n",
       "    </tr>\n",
       "    <tr>\n",
       "      <th>1</th>\n",
       "      <td>3</td>\n",
       "      <td>100001</td>\n",
       "      <td>Simpson Strong-Tie 12-Gauge Angle</td>\n",
       "      <td>l bracket</td>\n",
       "      <td>2.50</td>\n",
       "    </tr>\n",
       "    <tr>\n",
       "      <th>2</th>\n",
       "      <td>9</td>\n",
       "      <td>100002</td>\n",
       "      <td>BEHR Premium Textured DeckOver 1-gal. #SC-141 ...</td>\n",
       "      <td>deck over</td>\n",
       "      <td>3.00</td>\n",
       "    </tr>\n",
       "    <tr>\n",
       "      <th>3</th>\n",
       "      <td>16</td>\n",
       "      <td>100005</td>\n",
       "      <td>Delta Vero 1-Handle Shower Only Faucet Trim Ki...</td>\n",
       "      <td>rain shower head</td>\n",
       "      <td>2.33</td>\n",
       "    </tr>\n",
       "    <tr>\n",
       "      <th>4</th>\n",
       "      <td>17</td>\n",
       "      <td>100005</td>\n",
       "      <td>Delta Vero 1-Handle Shower Only Faucet Trim Ki...</td>\n",
       "      <td>shower only faucet</td>\n",
       "      <td>2.67</td>\n",
       "    </tr>\n",
       "  </tbody>\n",
       "</table>\n",
       "</div>"
      ],
      "text/plain": [
       "   id  product_uid                                      product_title  \\\n",
       "0   2       100001                  Simpson Strong-Tie 12-Gauge Angle   \n",
       "1   3       100001                  Simpson Strong-Tie 12-Gauge Angle   \n",
       "2   9       100002  BEHR Premium Textured DeckOver 1-gal. #SC-141 ...   \n",
       "3  16       100005  Delta Vero 1-Handle Shower Only Faucet Trim Ki...   \n",
       "4  17       100005  Delta Vero 1-Handle Shower Only Faucet Trim Ki...   \n",
       "\n",
       "          search_term  relevance  \n",
       "0       angle bracket       3.00  \n",
       "1           l bracket       2.50  \n",
       "2           deck over       3.00  \n",
       "3    rain shower head       2.33  \n",
       "4  shower only faucet       2.67  "
      ]
     },
     "execution_count": 2,
     "metadata": {},
     "output_type": "execute_result"
    }
   ],
   "source": [
    "train_df = pd.read_csv(\"../data/train.csv\")\n",
    "train_df.head()"
   ]
  },
  {
   "cell_type": "code",
   "execution_count": 3,
   "metadata": {
    "collapsed": false
   },
   "outputs": [
    {
     "data": {
      "text/html": [
       "<div style=\"max-height:1000px;max-width:1500px;overflow:auto;\">\n",
       "<table border=\"1\" class=\"dataframe\">\n",
       "  <thead>\n",
       "    <tr style=\"text-align: right;\">\n",
       "      <th></th>\n",
       "      <th>product_uid</th>\n",
       "      <th>name</th>\n",
       "      <th>value</th>\n",
       "    </tr>\n",
       "  </thead>\n",
       "  <tbody>\n",
       "    <tr>\n",
       "      <th>0</th>\n",
       "      <td>100001</td>\n",
       "      <td>Bullet01</td>\n",
       "      <td>Versatile connector for various 90° connection...</td>\n",
       "    </tr>\n",
       "    <tr>\n",
       "      <th>1</th>\n",
       "      <td>100001</td>\n",
       "      <td>Bullet02</td>\n",
       "      <td>Stronger than angled nailing or screw fastenin...</td>\n",
       "    </tr>\n",
       "    <tr>\n",
       "      <th>2</th>\n",
       "      <td>100001</td>\n",
       "      <td>Bullet03</td>\n",
       "      <td>Help ensure joints are consistently straight a...</td>\n",
       "    </tr>\n",
       "    <tr>\n",
       "      <th>3</th>\n",
       "      <td>100001</td>\n",
       "      <td>Bullet04</td>\n",
       "      <td>Dimensions: 3 in. x 3 in. x 1-1/2 in.</td>\n",
       "    </tr>\n",
       "    <tr>\n",
       "      <th>4</th>\n",
       "      <td>100001</td>\n",
       "      <td>Bullet05</td>\n",
       "      <td>Made from 12-Gauge steel</td>\n",
       "    </tr>\n",
       "  </tbody>\n",
       "</table>\n",
       "</div>"
      ],
      "text/plain": [
       "   product_uid      name                                              value\n",
       "0       100001  Bullet01  Versatile connector for various 90° connection...\n",
       "1       100001  Bullet02  Stronger than angled nailing or screw fastenin...\n",
       "2       100001  Bullet03  Help ensure joints are consistently straight a...\n",
       "3       100001  Bullet04              Dimensions: 3 in. x 3 in. x 1-1/2 in.\n",
       "4       100001  Bullet05                           Made from 12-Gauge steel"
      ]
     },
     "execution_count": 3,
     "metadata": {},
     "output_type": "execute_result"
    }
   ],
   "source": [
    "attributes_df = pd.read_csv(\"../data/attributes.csv\")\n",
    "attributes_df.head()"
   ]
  },
  {
   "cell_type": "code",
   "execution_count": 4,
   "metadata": {
    "collapsed": false
   },
   "outputs": [
    {
     "data": {
      "text/html": [
       "<div style=\"max-height:1000px;max-width:1500px;overflow:auto;\">\n",
       "<table border=\"1\" class=\"dataframe\">\n",
       "  <thead>\n",
       "    <tr style=\"text-align: right;\">\n",
       "      <th></th>\n",
       "      <th>product_uid</th>\n",
       "      <th>product_description</th>\n",
       "    </tr>\n",
       "  </thead>\n",
       "  <tbody>\n",
       "    <tr>\n",
       "      <th>0</th>\n",
       "      <td>100001</td>\n",
       "      <td>Not only do angles make joints stronger, they ...</td>\n",
       "    </tr>\n",
       "    <tr>\n",
       "      <th>1</th>\n",
       "      <td>100002</td>\n",
       "      <td>BEHR Premium Textured DECKOVER is an innovativ...</td>\n",
       "    </tr>\n",
       "    <tr>\n",
       "      <th>2</th>\n",
       "      <td>100003</td>\n",
       "      <td>Classic architecture meets contemporary design...</td>\n",
       "    </tr>\n",
       "    <tr>\n",
       "      <th>3</th>\n",
       "      <td>100004</td>\n",
       "      <td>The Grape Solar 265-Watt Polycrystalline PV So...</td>\n",
       "    </tr>\n",
       "    <tr>\n",
       "      <th>4</th>\n",
       "      <td>100005</td>\n",
       "      <td>Update your bathroom with the Delta Vero Singl...</td>\n",
       "    </tr>\n",
       "  </tbody>\n",
       "</table>\n",
       "</div>"
      ],
      "text/plain": [
       "   product_uid                                product_description\n",
       "0       100001  Not only do angles make joints stronger, they ...\n",
       "1       100002  BEHR Premium Textured DECKOVER is an innovativ...\n",
       "2       100003  Classic architecture meets contemporary design...\n",
       "3       100004  The Grape Solar 265-Watt Polycrystalline PV So...\n",
       "4       100005  Update your bathroom with the Delta Vero Singl..."
      ]
     },
     "execution_count": 4,
     "metadata": {},
     "output_type": "execute_result"
    }
   ],
   "source": [
    "product_descrition_df = pd.read_csv(\"../data/product_descriptions.csv\")\n",
    "product_descrition_df.head()"
   ]
  },
  {
   "cell_type": "code",
   "execution_count": 5,
   "metadata": {
    "collapsed": false
   },
   "outputs": [],
   "source": [
    "descriptions = product_descrition_df.product_description"
   ]
  },
  {
   "cell_type": "code",
   "execution_count": 6,
   "metadata": {
    "collapsed": false
   },
   "outputs": [],
   "source": [
    "stopset = stopwords.words('english')"
   ]
  },
  {
   "cell_type": "code",
   "execution_count": 7,
   "metadata": {
    "collapsed": false
   },
   "outputs": [],
   "source": [
    "texts = [[word for word in document.lower().replace(\".\", \"\").split() if word not in stopset ] for document in descriptions]"
   ]
  },
  {
   "cell_type": "code",
   "execution_count": 10,
   "metadata": {
    "collapsed": false
   },
   "outputs": [],
   "source": [
    "noun_text = []\n",
    "for t in texts:\n",
    "    NN_tags = TextBlob(\" \".join(t)).noun_phrases\n",
    "    noun_text.append(NN_tags)"
   ]
  },
  {
   "cell_type": "code",
   "execution_count": 11,
   "metadata": {
    "collapsed": false
   },
   "outputs": [],
   "source": [
    "from collections import defaultdict\n",
    "frequency = defaultdict(int)\n",
    "for text in texts:\n",
    "    for token in text:\n",
    "            frequency[token] += 1\n",
    "        \n",
    "texts2 = [[token for token in text if frequency[token] > 1] for text in texts]"
   ]
  },
  {
   "cell_type": "code",
   "execution_count": 13,
   "metadata": {
    "collapsed": false
   },
   "outputs": [],
   "source": [
    "dictionary = corpora.Dictionary(texts2)\n",
    "dictionary.save('descriptions.dict')"
   ]
  },
  {
   "cell_type": "code",
   "execution_count": 14,
   "metadata": {
    "collapsed": false
   },
   "outputs": [],
   "source": [
    "corpus = [dictionary.doc2bow(text) for text in texts2]\n",
    "corpora.MmCorpus.serialize('descriptions.mm', corpus)"
   ]
  },
  {
   "cell_type": "code",
   "execution_count": 15,
   "metadata": {
    "collapsed": false
   },
   "outputs": [],
   "source": [
    "dictionary = corpora.Dictionary.load('descriptions.dict')\n",
    "corpus = corpora.MmCorpus('descriptions.mm')"
   ]
  },
  {
   "cell_type": "code",
   "execution_count": 16,
   "metadata": {
    "collapsed": false
   },
   "outputs": [],
   "source": [
    "lda = LdaModel(corpus, id2word=dictionary, num_topics=100, passes=20)"
   ]
  },
  {
   "cell_type": "code",
   "execution_count": 17,
   "metadata": {
    "collapsed": false
   },
   "outputs": [
    {
     "data": {
      "text/plain": [
       "[(0,\n",
       "  u'0.068*window + 0.034*screen + 0.031*windows + 0.016*strip + 0.016*strips + 0.012*vinyl + 0.011*easy + 0.011*storm + 0.010*insect + 0.010*white'),\n",
       " (1,\n",
       "  u'0.035*flush + 0.018*laminate + 0.017*wooden + 0.015*proudly + 0.014*molding + 0.013*round + 0.012*manufactured + 0.012*transition + 0.011*staining + 0.011*moldings'),\n",
       " (2,\n",
       "  u'0.038*sink + 0.035*kitchen + 0.022*ceramic + 0.016*brass + 0.016*faucet + 0.014*drain + 0.012*lifetime + 0.010*disc + 0.010*finish + 0.010*cartridge'),\n",
       " (3,\n",
       "  u'0.018*oz + 0.016*lawn + 0.016*use + 0.016*grass + 0.011*visible + 0.010*leg + 0.010*pond + 0.010*unfinished + 0.010*formula + 0.010*used'),\n",
       " (4,\n",
       "  u'0.038*water + 0.026*tub + 0.022*valve + 0.019*bath + 0.019*shower + 0.017*faucet + 0.013*faucets + 0.010*handle + 0.010*design + 0.009*kohler'),\n",
       " (5,\n",
       "  u'0.043*mounting + 0.033*kit + 0.028*hardware + 0.023*wall + 0.020*installation + 0.018*rod + 0.018*includes + 0.017*mount + 0.015*included + 0.014*easy'),\n",
       " (6,\n",
       "  u'0.073*air + 0.038*filter + 0.020*heat + 0.016*dust + 0.011*filters + 0.009*media + 0.009*high + 0.008*water + 0.008*flow + 0.007*particles'),\n",
       " (7,\n",
       "  u'0.052*fan + 0.052*ceiling + 0.013*help + 0.013*light + 0.011*guide + 0.010*installing + 0.010*motor + 0.010*fans + 0.010*reversible + 0.009*home'),\n",
       " (8,\n",
       "  u'0.031*vanity + 0.020*top + 0.018*bathroom + 0.016*white + 0.012*mirror + 0.011*solid + 0.010*cabinet + 0.010*wood + 0.010*easy + 0.009*faucet'),\n",
       " (9,\n",
       "  u'0.027*corner + 0.023*visual + 0.022*easy + 0.019*tiles + 0.015*modular + 0.015*tile + 0.014*corners + 0.013*material + 0.012*peel + 0.012*interest'),\n",
       " (10,\n",
       "  u'0.028*added + 0.020*panel + 0.018*feature + 0.017*adjustable + 0.016*thick + 0.015*molding + 0.015*end + 0.015*crown + 0.015*center + 0.014*cabinet'),\n",
       " (11,\n",
       "  u'0.020*roof + 0.012*installation + 0.012*steel + 0.010*flashing + 0.010*x + 0.009*metal + 0.009*security + 0.008*approved + 0.008*trash + 0.008*master'),\n",
       " (12,\n",
       "  u'0.026*art + 0.018*quality + 0.018*lifetime + 0.015*limited + 0.015*warranty + 0.015*enclosure + 0.014*camera + 0.013*pro + 0.012*high + 0.012*original'),\n",
       " (13,\n",
       "  u'0.025*nails + 0.023*connector + 0.018*nail + 0.015*gun + 0.012*hitachi + 0.011*rating: + 0.010*nailer + 0.010*compressor + 0.009*framing + 0.009*2-1/2'),\n",
       " (14,\n",
       "  u'0.030*bed + 0.029*recycled + 0.025*made + 0.018*plastic + 0.013*barrier + 0.012*friendly + 0.011*inlet + 0.010*environmentally + 0.009*hdpe + 0.008*easy'),\n",
       " (15,\n",
       "  u'0.050*pvc + 0.021*40 + 0.017*used + 0.016*pipe + 0.013*grade + 0.013*pressure + 0.012*applications + 0.012*adhesive + 0.011*flexible + 0.011*waterproof'),\n",
       " (16,\n",
       "  u'0.030*thread + 0.029*threaded + 0.028*wire + 0.023*bolt + 0.022*bolts + 0.021*male + 0.018*female + 0.016*green + 0.015*compatible + 0.015*standard'),\n",
       " (17,\n",
       "  u'0.035*lamp + 0.032*fabric + 0.025*polyester + 0.024*uv + 0.020*shade + 0.019*outdoor + 0.016*canopy + 0.015*cushion + 0.011*poly + 0.010*dimensions:'),\n",
       " (18,\n",
       "  u'0.060*copper + 0.016*oil + 0.013*salt + 0.013*chemical + 0.012*riser + 0.012*melt + 0.010*oil, + 0.009*plastic, + 0.009*chemicals + 0.009*data'),\n",
       " (19,\n",
       "  u'0.026*mat + 0.022*devices + 0.018*device + 0.017*power + 0.016*usb + 0.014*adapter + 0.013*ac + 0.012*cable + 0.011*phone + 0.009*ez'),\n",
       " (20,\n",
       "  u'0.032*stair + 0.022*cloth + 0.020*tread + 0.019*liner + 0.018*add + 0.017*glue + 0.015*easy + 0.015*damp + 0.015*carpet + 0.015*grab'),\n",
       " (21,\n",
       "  u'0.017*system + 0.014*ladder + 0.013*rolling + 0.012*alarm + 0.012*glide + 0.011*emergency + 0.009*quiet + 0.008*assist + 0.008*carbon + 0.008*pins'),\n",
       " (22,\n",
       "  u'0.039*cleaning + 0.029*iron + 0.027*pump + 0.024*cast + 0.023*clean + 0.018*cleaner + 0.017*vacuum + 0.017*brush + 0.016*water + 0.013*hose'),\n",
       " (23,\n",
       "  u'0.071*65 + 0.068*residents: + 0.068*see&nbsp;proposition + 0.038*wood + 0.012*stain + 0.012*painted + 0.011*railing + 0.011*interior + 0.010*used + 0.009*use'),\n",
       " (24,\n",
       "  u'0.069*head + 0.033*nylon + 0.019*tip + 0.014*threaded + 0.014*fibers + 0.013*fastener + 0.013*stain + 0.012*shank + 0.012*spiral + 0.012*phillips'),\n",
       " (25,\n",
       "  u'0.030*sinks + 0.026*anchor + 0.025*enclosed + 0.017*lag + 0.016*collar + 0.015*combining + 0.015*expansion + 0.013*drains + 0.013*anchors + 0.013*sockets'),\n",
       " (26,\n",
       "  u'0.112*door + 0.045*doors + 0.022*sides + 0.019*sliding + 0.019*track + 0.017*garage + 0.013*aluminum + 0.011*bottom + 0.011*raised + 0.011*skin'),\n",
       " (27,\n",
       "  u'0.014*closing + 0.013*storage + 0.013*floor + 0.012*cross + 0.011*ft + 0.011*essentials + 0.010*wood + 0.010*shed + 0.010*compliment + 0.009*delivery'),\n",
       " (28,\n",
       "  u'0.025*video + 0.025*alloy + 0.022*connectors + 0.020*genuine + 0.019*samples + 0.015*quality + 0.015*hub + 0.013*urethane + 0.012*hickory + 0.012*returnable'),\n",
       " (29,\n",
       "  u'0.034*grill + 0.020*much + 0.016*great + 0.015*ash + 0.013*manufacturers + 0.012*rust, + 0.012*calculator + 0.011*charcoal + 0.011*determine + 0.011*sq'),\n",
       " (30,\n",
       "  u'0.031*drop + 0.025*cotton + 0.024*use + 0.024*please + 0.024*code + 0.023*watersense + 0.023*fireplace + 0.022*items + 0.020*new + 0.020*shipping'),\n",
       " (31,\n",
       "  u'0.036*unit + 0.019*fiberglass + 0.016*warranty + 0.016*front + 0.014*component + 0.012*millwork + 0.012*mind + 0.010*milliken + 0.010*peace + 0.009*clear'),\n",
       " (32,\n",
       "  u'0.028*finish + 0.022*glass + 0.022*collection + 0.020*design + 0.018*style + 0.016*bronze + 0.015*decor + 0.014*home + 0.011*nickel + 0.010*look'),\n",
       " (33,\n",
       "  u'0.083*shower + 0.024*base + 0.016*door + 0.015*clear + 0.015*x + 0.015*wall + 0.015*glass + 0.015*tempered + 0.013*design + 0.012*installation'),\n",
       " (34,\n",
       "  u'0.025*pack + 0.023*- + 0.018*frameless + 0.016*included + 0.014*completely + 0.013*easy + 0.012*proof + 0.012*max + 0.012*choose + 0.011*tv'),\n",
       " (35,\n",
       "  u'0.032*pipe + 0.025*water + 0.020*fitting + 0.019*brass + 0.017*1/2 + 0.015*fittings + 0.014*pressure + 0.014*psi + 0.012*supply + 0.012*x'),\n",
       " (36,\n",
       "  u'0.025*easy + 0.012*handle + 0.012*rubber + 0.011*use + 0.010*tools + 0.009*heavy + 0.009*duty + 0.008*easily + 0.008*design + 0.008*keep'),\n",
       " (37,\n",
       "  u'0.017*depot + 0.017*protection + 0.015*plan: + 0.013*- + 0.013*control + 0.012*home + 0.011*remote + 0.009*led + 0.009*set + 0.009*technology'),\n",
       " (38,\n",
       "  u'0.078*water + 0.030*hot + 0.027*gas + 0.027*fire + 0.021*heater + 0.016*tank + 0.014*tube + 0.012*compression + 0.012*temperature + 0.011*electric'),\n",
       " (39,\n",
       "  u'0.039*post + 0.036*vinyl + 0.026*aluminum + 0.025*fence + 0.019*coated + 0.018*gate + 0.015*powder + 0.014*top + 0.012*rail + 0.012*posts'),\n",
       " (40,\n",
       "  u'0.046*paint + 0.019*finish + 0.017*following + 0.015*or, + 0.015*price + 0.014*includes + 0.014*fee + 0.014*sq + 0.014*ca, + 0.014*care'),\n",
       " (41,\n",
       "  u'0.023*snow + 0.014*sand + 0.014*supplies + 0.014*would + 0.012*chip, + 0.011*corrosive + 0.011*edging + 0.011*90% + 0.010*stabilized + 0.010*claw'),\n",
       " (42,\n",
       "  u'0.057*cover + 0.021*covers + 0.017*models + 0.014*snow + 0.012*umbrella + 0.010*edge + 0.010*colors + 0.010*paintable + 0.010*seed + 0.009*resistanteasy'),\n",
       " (43,\n",
       "  u'0.019*rope + 0.018*quality + 0.017*many + 0.017*products + 0.017*general + 0.015*project + 0.012*purpose + 0.011*load + 0.011*needs + 0.011*industrial'),\n",
       " (44,\n",
       "  u'0.055*storage + 0.024*cabinet + 0.024*shelf + 0.023*adjustable + 0.018*space + 0.016*shelves + 0.013*drawer + 0.012*finish + 0.010*powder + 0.010*easy'),\n",
       " (45,\n",
       "  u'0.024*duct + 0.018*vent + 0.018*installation + 0.017*round + 0.015*easy + 0.014*air + 0.013*fan + 0.012*return + 0.012*exhaust + 0.011*hvac'),\n",
       " (46,\n",
       "  u'0.021*inner + 0.017*drainage + 0.014*shaped + 0.014*outer + 0.013*rounded + 0.011*rock + 0.011*border + 0.010*flex + 0.010*packaged + 0.010*trap'),\n",
       " (47,\n",
       "  u'0.057*light + 0.042*energy + 0.027*bulb + 0.022*led + 0.017*3 + 0.017*use + 0.017*incandescent + 0.016*bulbs + 0.014*standard + 0.013*(based'),\n",
       " (48,\n",
       "  u'0.029*insulation + 0.023*cooler + 0.022*gold + 0.019*sound + 0.015*qt + 0.014*thermal + 0.014*energy + 0.012*reduce + 0.012*ii + 0.011*='),\n",
       " (49,\n",
       "  u'0.039*rug + 0.039*may + 0.036*vary + 0.024*slightly + 0.023*dimensions + 0.017*colors + 0.015*patterns + 0.015*please + 0.015*possible + 0.014*best'),\n",
       " (50,\n",
       "  u'0.034*cutting + 0.031*blade + 0.018*cut + 0.017*nuts + 0.015*blades + 0.014*designed + 0.013*saw + 0.011*life + 0.011*high + 0.011*cuts'),\n",
       " (51,\n",
       "  u'0.071*light + 0.037*lighting + 0.025*led + 0.016*fixture + 0.015*listed + 0.015*protection + 0.014*use + 0.013*switch + 0.012*plan: + 0.012*depot'),\n",
       " (52,\n",
       "  u'0.022*steam + 0.016*dry + 0.015*cycle + 0.013*drying + 0.013*dryer + 0.012*csa + 0.012*time + 0.011*clothes + 0.010*help + 0.010*appliance'),\n",
       " (53,\n",
       "  u'0.112*ft + 0.068*x + 0.036*4 + 0.036*8 + 0.033*6 + 0.025*10 + 0.024*2 + 0.014*12 + 0.013*3 + 0.012*-'),\n",
       " (54,\n",
       "  u'0.033*outdoor + 0.028*table + 0.026*patio + 0.016*resistant + 0.015*weather + 0.015*frame + 0.014*chair + 0.013*furniture + 0.013*set + 0.012*lumber'),\n",
       " (55,\n",
       "  u'0.085*door + 0.044*glass + 0.019*doors + 0.014*hinges + 0.012*energy + 0.011*smooth + 0.010*provides + 0.010*finish + 0.010*home + 0.009*beauty'),\n",
       " (56,\n",
       "  u'0.031*floor + 0.028*flooring + 0.025*x + 0.018*vinyl + 0.016*grade + 0.012*may + 0.011*item + 0.011*floors + 0.011*multiple + 0.010*case'),\n",
       " (57,\n",
       "  u'0.045*color + 0.034*paint + 0.023*surface + 0.019*gloss + 0.019*surfaces + 0.018*depending + 0.018*wood, + 0.015*rooms, + 0.014*use + 0.013*spray'),\n",
       " (58,\n",
       "  u'0.028*lock + 0.025*security + 0.015*key + 0.014*door + 0.014*locking + 0.013*finish + 0.012*knob + 0.011*latch + 0.010*brass + 0.009*warranty'),\n",
       " (59,\n",
       "  u\"0.018*kids + 0.018*fun + 0.017*super + 0.013*you'll + 0.012*swing + 0.012*play + 0.012*lacquer + 0.012*like + 0.010*signature + 0.009*love\"),\n",
       " (60,\n",
       "  u'0.033*ring + 0.027*effective + 0.019*worn + 0.017*planter + 0.016*clamp + 0.013*200 + 0.013*polyethylene + 0.012*station + 0.012*plastic + 0.011*stake'),\n",
       " (61,\n",
       "  u'0.030*used + 0.026*screws + 0.026*screw + 0.026*in, + 0.022*65 + 0.022*see&nbsp;proposition + 0.022*residents: + 0.021*hole + 0.020*x + 0.020*per'),\n",
       " (62,\n",
       "  u'0.029*ice + 0.024*food + 0.022*door + 0.020*freezer + 0.020*refrigerator + 0.018*fresh + 0.018*storage + 0.015*cu + 0.014*compartment + 0.014*temperature'),\n",
       " (63,\n",
       "  u'0.022*1-1/4 + 0.020*plated + 0.016*1-1/2 + 0.015*corrosion + 0.014*provide + 0.014*pads + 0.014*canvas + 0.013*glossy + 0.013*extra + 0.011*rods'),\n",
       " (64,\n",
       "  u'0.027*breaker + 0.026*high-quality + 0.022*flowers + 0.022*plastics, + 0.022*wicker, + 0.017*main + 0.016*porous + 0.015*feed + 0.015*container + 0.012*dry'),\n",
       " (65,\n",
       "  u'0.039*blue + 0.035*pool + 0.015*test + 0.015*tubing + 0.015*drip + 0.013*rugged + 0.011*cover + 0.009*water + 0.009*installation + 0.009*wave'),\n",
       " (66,\n",
       "  u'0.036*product + 0.034*may + 0.031*use + 0.030*used + 0.030*store + 0.028*vary + 0.015*conduit + 0.014*listed + 0.012*box + 0.011*ul'),\n",
       " (67,\n",
       "  u'0.039*solar + 0.019*night + 0.018*tapered + 0.015*light + 0.014*battery + 0.013*day + 0.012*weatherproof + 0.011*bird + 0.009*powered + 0.009*outdoor'),\n",
       " (68,\n",
       "  u'0.037*& + 0.034*replacement + 0.023*rugs + 0.020*pad + 0.018*parts + 0.018*briggs + 0.018*stratton + 0.013*equipment + 0.012*avoid + 0.011*engine'),\n",
       " (69,\n",
       "  u'0.234*steel + 0.086*stainless + 0.016*mesh + 0.013*gauge + 0.013*wallpaper + 0.012*spring + 0.011*galvanized + 0.011*constructed + 0.011*heavy + 0.011*strength'),\n",
       " (70,\n",
       "  u'0.050*seat + 0.044*toilet + 0.035*chain + 0.015*bowl + 0.013*arms + 0.013*height + 0.013*contoured + 0.012*bar + 0.010*elongated + 0.010*diverter'),\n",
       " (71,\n",
       "  u'0.038*power + 0.024*cord + 0.023*block + 0.022*plug + 0.019*cable + 0.019*generator + 0.018*use + 0.012*plugs + 0.012*outlet + 0.011*polymer'),\n",
       " (72,\n",
       "  u'0.051*battery + 0.025*(1) + 0.020*batteries + 0.019*lithium-ion + 0.017*18-volt + 0.016*cordless + 0.013*tool + 0.012*charger + 0.012*time + 0.011*compact'),\n",
       " (73,\n",
       "  u'0.051*bar + 0.030*installation + 0.025*towel + 0.022*template + 0.018*quality, + 0.016*days + 0.016*rays + 0.016*convenient + 0.015*allow + 0.012*highlight'),\n",
       " (74,\n",
       "  u'0.049*wood + 0.038*natural + 0.023*hardwood + 0.021*look + 0.016*home + 0.014*stone + 0.013*rich + 0.013*grain + 0.012*oak + 0.012*quality'),\n",
       " (75,\n",
       "  u'0.019*protection + 0.017*power + 0.015*depot + 0.014*plan: + 0.013*motor + 0.011*speed + 0.011*system + 0.011*provides + 0.010*control + 0.010*allows'),\n",
       " (76,\n",
       "  u'0.020*control + 0.019*switch + 0.017*lantern + 0.014*motion + 0.014*turn + 0.012*timer + 0.011*candle + 0.011*hands + 0.011*time + 0.011*sensor'),\n",
       " (77,\n",
       "  u'0.025*tool + 0.018*socket + 0.017*impact + 0.012*drive + 0.012*1/4 + 0.011*features + 0.010*set + 0.010*hammer + 0.009*bit + 0.009*handle'),\n",
       " (78,\n",
       "  u'0.013*car + 0.011*44 + 0.010*continuous + 0.009*85 + 0.009*washed + 0.009*adirondack + 0.009*tab + 0.009*one + 0.009*78 + 0.009*in)'),\n",
       " (79,\n",
       "  u'0.022*soap + 0.018*mild + 0.016*soft + 0.015*brown + 0.013*fabric + 0.013*stains + 0.012*color + 0.009*clean + 0.009*variety + 0.009*curtain'),\n",
       " (80,\n",
       "  u'0.018*pet + 0.015*order + 0.013*window + 0.013*treatment + 0.012*size + 0.011*blind + 0.010*tufted + 0.010*room + 0.010*- + 0.009*cords'),\n",
       " (81,\n",
       "  u'0.059*concrete + 0.037*deck + 0.020*wood + 0.017*vertical + 0.014*decks + 0.012*composite + 0.011*restore + 0.011*solutions + 0.011*new + 0.010*coating'),\n",
       " (82,\n",
       "  u'0.026*fine + 0.018*mail + 0.016*dishwasher + 0.014*pile + 0.013*marine + 0.012*sign + 0.012*outstanding + 0.011*nature + 0.011*oem + 0.010*thermoplastic'),\n",
       " (83,\n",
       "  u'0.036*panels + 0.024*room + 0.021*wall + 0.015*perfect + 0.015*panel + 0.014*home + 0.013*board + 0.013*office + 0.013*easy + 0.012*great'),\n",
       " (84,\n",
       "  u'0.027*tile + 0.019*x + 0.017*indoor + 0.013*commercial + 0.012*use + 0.012*residential + 0.012*recommended + 0.011*wall + 0.010*installation + 0.009*frost'),\n",
       " (85,\n",
       "  u'0.029*load + 0.025*circuit + 0.017*roller + 0.017*bosch + 0.017*beam + 0.016*center + 0.012*breakers + 0.012*dimmer + 0.012*- + 0.011*measurement'),\n",
       " (86,\n",
       "  u'0.033*ball + 0.020*rotary + 0.018*bags + 0.017*bearing + 0.016*26 + 0.013*pivot + 0.011*one + 0.009*slides + 0.009*espresso + 0.008*french'),\n",
       " (87,\n",
       "  u'0.026*400 + 0.018*dirt + 0.017*wrought + 0.016*wood + 0.016*clean-up + 0.015*steel, + 0.015*shutters, + 0.015*moisture, + 0.013*bi-fold + 0.011*exterior'),\n",
       " (88,\n",
       "  u'0.042*degrees + 0.036*degree + 0.030*waste + 0.030*foam + 0.019*45 + 0.019*f + 0.016*abs + 0.016*500 + 0.016*pipes + 0.014*solvent'),\n",
       " (89,\n",
       "  u'0.030*hose + 0.030*garden + 0.026*plant + 0.024*soil + 0.018*plants + 0.013*grow + 0.012*pot + 0.011*- + 0.011*leaves + 0.010*water'),\n",
       " (90,\n",
       "  u'0.030*(not + 0.023*included) + 0.019*drywall + 0.018*sheet + 0.017*gutter + 0.014*sharp + 0.013*seams + 0.012*plastic + 0.009*use + 0.009*create'),\n",
       " (91,\n",
       "  u'0.029*oven + 0.027*cooking + 0.011*easy + 0.009*heat + 0.008*range + 0.008*cook + 0.008*burner + 0.007*even + 0.007*power + 0.007*cu'),\n",
       " (92,\n",
       "  u'0.026*tree + 0.018*lights + 0.016*holiday + 0.013*indoor + 0.013*representations + 0.013*ft + 0.012*mini + 0.011*outdoor + 0.010*clear + 0.010*red'),\n",
       " (93,\n",
       "  u'0.041*red + 0.022*push + 0.022*cedar + 0.021*button + 0.018*transfer + 0.016*coffee + 0.014*non-porous + 0.014*stain-resistant + 0.013*scuff + 0.011*-'),\n",
       " (94,\n",
       "  u'0.202*x + 0.069*w + 0.039*h + 0.034*d + 0.019*l + 0.011*2 + 0.011*36 + 0.010*1 + 0.009*24 + 0.009*measures'),\n",
       " (95,\n",
       "  u'0.034*drain + 0.034*tape + 0.031*paper + 0.018*holder + 0.014*upper + 0.014*bathtub + 0.014*roll + 0.014*loop + 0.013*protector + 0.013*flange'),\n",
       " (96,\n",
       "  u'0.021*sample + 0.018*crystal + 0.013*kitchen + 0.012*affordable + 0.011*basement + 0.011*superb + 0.011*countertop + 0.007*deck + 0.007*well + 0.006*expect'),\n",
       " (97,\n",
       "  u'0.023*rack + 0.017*energy + 0.017*appliances + 0.016*wash + 0.014*basket + 0.013*- + 0.012*star + 0.011*ge + 0.010*water + 0.009*technology'),\n",
       " (98,\n",
       "  u'0.034*water + 0.033*spray + 0.027*chrome + 0.026*flow + 0.019*finish + 0.018*easy + 0.017*arm + 0.014*faucet + 0.013*spout + 0.013*design'),\n",
       " (99,\n",
       "  u'0.049*wall + 0.032*plate + 0.019*plates + 0.017*easy + 0.016*team + 0.013*flag + 0.012*licensed + 0.012*decorative + 0.011*pull + 0.010*sleeve')]"
      ]
     },
     "execution_count": 17,
     "metadata": {},
     "output_type": "execute_result"
    }
   ],
   "source": [
    "lda.print_topics(num_topics = 100, num_words=10)"
   ]
  },
  {
   "cell_type": "code",
   "execution_count": 24,
   "metadata": {
    "collapsed": false
   },
   "outputs": [],
   "source": [
    "df = pd.merge(train_df,product_descrition_df, on=\"product_uid\")"
   ]
  },
  {
   "cell_type": "code",
   "execution_count": null,
   "metadata": {
    "collapsed": true
   },
   "outputs": [],
   "source": []
  }
 ],
 "metadata": {
  "kernelspec": {
   "display_name": "Python 2",
   "language": "python",
   "name": "python2"
  },
  "language_info": {
   "codemirror_mode": {
    "name": "ipython",
    "version": 2
   },
   "file_extension": ".py",
   "mimetype": "text/x-python",
   "name": "python",
   "nbconvert_exporter": "python",
   "pygments_lexer": "ipython2",
   "version": "2.7.10"
  }
 },
 "nbformat": 4,
 "nbformat_minor": 0
}
